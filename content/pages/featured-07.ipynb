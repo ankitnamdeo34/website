{
 "metadata": {
  "name": "",
  "signature": "sha256:51993b35a90a9fdd564d1bf7f56547d4b20f7ae6b648f3d44ba9af0841cdf0df"
 },
 "nbformat": 3,
 "nbformat_minor": 0,
 "worksheets": [
  {
   "cells": [
    {
     "cell_type": "markdown",
     "metadata": {
      "word_id": "4818_07_ztest"
     },
     "source": [
      "# Introduction to statistical data analysis in Python &ndash; frequentist and Bayesian methods\n",
      "slug: featured-07\n",
      "tags: cookbook"
     ]
    },
    {
     "cell_type": "markdown",
     "metadata": {},
     "source": [
      "> This is the seventh featured recipe from the [**IPython Cookbook**](http://ipython-books.github.io/cookbook/), the definitive guide to **high-performance scientific computing** and **data science** in Python."
     ]
    },
    {
     "cell_type": "markdown",
     "metadata": {},
     "source": [
      "In [Chapter 7, Statistical Data Analysis]({filename}cookbook.md#chapter-7-statistical-data-analysis), we introduce statistical methods for data analysis. In addition to covering\n",
      "statistical packages such as pandas, statsmodels, and PyMC, we explain the basics of the\n",
      "underlying mathematical principles. Therefore, this chapter will be most profitable if you have\n",
      "basic experience with probability theory and calculus."
     ]
    },
    {
     "cell_type": "markdown",
     "metadata": {},
     "source": [
      "The next chapter, [Chapter 8, Machine Learning]({filename}cookbook.md#chapter-8-machine-learning), is closely related; the underlying mathematics\n",
      "is very similar, but the goals are slightly different. While in the present chapter, we show how to gain insight\n",
      "into real-world data and how to make informed decisions in the presence of uncertainty, in the\n",
      "next chapter the goal is to learn from data, that is, to generalize and to predict outcomes from\n",
      "partial observations."
     ]
    },
    {
     "cell_type": "markdown",
     "metadata": {},
     "source": [
      "In this featured recipe, we give a broad, high-level overview of the methods we will see\n",
      "in Chapter 7, and we give an introduction to frequentist and Bayesian statistics.\n",
      "\n",
      "> The full chapter is available [in the book]({filename}cookbook.md), and covers many more statistical methods."
     ]
    },
    {
     "cell_type": "markdown",
     "metadata": {},
     "source": [
      "## What is statistical data analysis?\n",
      "\n",
      "The goal of statistical data analysis is to understand a complex, real-world phenomenon\n",
      "from partial and uncertain observations. The uncertainty in the data results in uncertainty\n",
      "in the knowledge we get about the phenomenon. A major goal of the theory is to quantify\n",
      "this uncertainty.\n",
      "\n",
      "It is important to make the distinction between the mathematical theory underlying statistical\n",
      "data analysis, and the decisions made after conducting an analysis. The former is perfectly\n",
      "rigorous; perhaps surprisingly, mathematicians were able to build an exact mathematical\n",
      "framework to deal with uncertainty. Nevertheless, there is a subjective part in the way\n",
      "statistical analysis yields actual human decisions. Understanding the risk and the uncertainty\n",
      "behind statistical results is critical in the decision-making process.\n",
      "\n",
      "In this chapter, we will see the basic notions, principles, and theories behind statistical data\n",
      "analysis, covering in particular how to make decisions with a quantified risk. Of course, we will\n",
      "always show how to implement these methods with Python."
     ]
    },
    {
     "cell_type": "markdown",
     "metadata": {},
     "source": [
      "## A bit of vocabulary\n",
      "\n",
      "There are many terms that need introduction before we get started with the recipes. These\n",
      "notions allow us to classify statistical techniques within multiple axes."
     ]
    },
    {
     "cell_type": "markdown",
     "metadata": {},
     "source": [
      "### Exploration, inference, decision, and prediction\n",
      "\n",
      "**Exploratory methods** allow us to get a preliminary look at a dataset through basic statistical\n",
      "aggregates and interactive visualization. We covered these basic methods in the first\n",
      "chapter of this book and in our previous book [Learning IPython for Interactive Computing and Data\n",
      "Visualization]({filename}minibook.md), Packt Publishing."
     ]
    },
    {
     "cell_type": "markdown",
     "metadata": {},
     "source": [
      "**Statistical inference** consists of getting information about an unknown process through\n",
      "partial and uncertain observations. In particular, **estimation** entails obtaining approximate\n",
      "quantities for the mathematical variables describing this process."
     ]
    },
    {
     "cell_type": "markdown",
     "metadata": {},
     "source": [
      "**Decision theory** allows us to make decisions about an unknown process from random\n",
      "observations, with a controlled risk."
     ]
    },
    {
     "cell_type": "markdown",
     "metadata": {},
     "source": [
      "**Prediction** consists of learning from data, that is, predicting the outcomes of a random\n",
      "process based on a limited number of observations. This is the topic of the next chapter,\n",
      "[Chapter 8, Machine Learning]({filename}cookbook.md#chapter-7-statistical-data-analysis)."
     ]
    },
    {
     "cell_type": "markdown",
     "metadata": {},
     "source": [
      "### Univariate and multivariate methods\n",
      "\n",
      "In most cases, you can consider two dimensions in your data:\n",
      "\n",
      "* **Observations** (or **samples**, for machine learning people)\n",
      "* **Variables** (or **features**)\n",
      "\n",
      "Typically, observations are independent realizations of the same random process. Each\n",
      "observation is made of one or several variables. Most of the time, variables are either\n",
      "numbers, or elements belonging to a finite set (that is, taking a finite number of values).\n",
      "The first step in an analysis is to understand what your observations and variables are.\n",
      "\n",
      "Your problem is **univariate** if you have one variable. It is **bivariate** if you have two variables\n",
      "and **multivariate** if you have at least two variables. Univariate methods are typically simpler.\n",
      "That being said, univariate methods may be used on multivariate data, using one dimension\n",
      "at a time. Although interactions between variables cannot be explored in that case, it is often\n",
      "an interesting first approach."
     ]
    },
    {
     "cell_type": "markdown",
     "metadata": {},
     "source": [
      "### Frequentist and Bayesian methods\n",
      "\n",
      "There are at least two different ways of considering uncertainty, resulting in two different\n",
      "classes of methods for inference, decision, and other statistical questions. These are called\n",
      "**frequentist and Bayesian methods**. Some people prefer frequentist methods, while others\n",
      "prefer Bayesian methods.\n",
      "\n",
      "Frequentists interpret a probability as a **statistical average** across many independent\n",
      "realizations (law of large numbers). Bayesians interpret it as a **degree of belief** (no need\n",
      "for many realizations). The Bayesian interpretation is very useful when only a single trial is\n",
      "considered. In addition, Bayesian theory takes into account our **prior knowledge** about a\n",
      "random process. This prior probability distribution is updated into a posterior distribution\n",
      "as we get more and more data.\n",
      "\n",
      "Both frequentist and Bayesian methods have their advantages and disadvantages. For\n",
      "instance, one could say that frequentist methods might be easier to apply than Bayesian\n",
      "methods, but more difficult to interpret. For classic misuses of frequentist methods, see\n",
      "[this reference](http://www.refsmmat.com/statistics/).\n",
      "\n",
      "In any case, if you are a beginner in statistical data analysis, you probably want to learn the\n",
      "basics of both approaches before choosing sides. This chapter introduces you to both types\n",
      "of methods.\n",
      "\n",
      "Jake Vanderplas has written several blog posts about frequentism and Bayesianism, with\n",
      "examples in Python. The first post of the series is available [here](http://jakevdp.github.io/blog/2014/03/11/frequentism-and-bayesianism-a-practical-intro/)."
     ]
    },
    {
     "cell_type": "markdown",
     "metadata": {},
     "source": [
      "### Parametric and nonparametric inference methods\n",
      "\n",
      "In many cases, you base your analysis on a **probabilistic model**. This model describes how\n",
      "your data is generated. A probabilistic model has no reality; it is only a mathematical object\n",
      "that guides you in your analysis. A good model can be helpful, whereas a bad model may\n",
      "misguide you.\n",
      "\n",
      "With a **parametric method**, you assume that your model belongs to a known family of\n",
      "probability distributions. The model has one or multiple numerical parameters that you\n",
      "can estimate."
     ]
    },
    {
     "cell_type": "markdown",
     "metadata": {},
     "source": [
      "With a **nonparametric model**, you do not make such an assumption in your model. This gives\n",
      "you more flexibility. However, these methods are typically more complicated to implement and\n",
      "to interpret."
     ]
    },
    {
     "cell_type": "markdown",
     "metadata": {},
     "source": [
      "This chapter only gives you an idea of the wide range of possibilities that Python offers for\n",
      "statistical data analysis. You can find many books and online courses that cover statistical\n",
      "methods in much greater detail, such as:\n",
      "\n",
      "* [Statistics on WikiBooks](http://en.wikibooks.org/wiki/Statistics)\n",
      "* [Free statistical textbooks](http://stats.stackexchange.com/questions/170/free-statistical-textbooks)"
     ]
    },
    {
     "cell_type": "markdown",
     "metadata": {},
     "source": [
      "In this featured recipe, we give an introduction to frequentist and Bayesian methods."
     ]
    },
    {
     "cell_type": "markdown",
     "metadata": {},
     "source": [
      "## Getting started with statistical hypothesis testing &ndash; a simple z-test"
     ]
    },
    {
     "cell_type": "markdown",
     "metadata": {},
     "source": [
      "**Statistical hypothesis testing** allows us to make decisions in presence of incomplete data. By definition, these decisions are uncertain. Statisticians have developed rigorous methods to evaluate this risk. Nevertheless, a part of subjectivity is always involved in the decision-making process. The theory is just a tool that helps making decisions in an uncertain world."
     ]
    },
    {
     "cell_type": "markdown",
     "metadata": {},
     "source": [
      "Here, we introduce the most basic ideas behind statistical hypothesis testing, following an extremely simple example: **coin tossing**. More precisely, we will show how to perform a **z-test**, and we will briefly explain the mathematical ideas underlying it. This kind of method (also called *frequentist method*), although widely used in science, is subject to many criticisms. We will show later a more modern approach based on Bayesian theory. It is very helpful to understand both approaches, because many studies and publications still follow frequentist methods."
     ]
    },
    {
     "cell_type": "markdown",
     "metadata": {},
     "source": [
      "### How to do it..."
     ]
    },
    {
     "cell_type": "markdown",
     "metadata": {},
     "source": [
      "Many frequentist methods for hypothesis testing roughly involve the following steps:\n",
      "\n",
      "1. Writing down the hypotheses, notably the **null hypothesis** which is the *opposite* of the hypothesis we want to prove (with a certain degree of confidence).\n",
      "2. Computing a **test statistics**, a mathematical formula depending on the test type, the model, the hypotheses, and the data.\n",
      "3. Using the computed value to accept the hypothesis, reject it, or fail to conclude.\n",
      "  \n",
      "Here, we flip a coin $n$ times and we observe $h$ heads. We want to know whether the coin is fair (null hypothesis). This example is extremely simple yet quite good for pedagogical purposes. Besides, it is the basis of many more complex methods."
     ]
    },
    {
     "cell_type": "markdown",
     "metadata": {},
     "source": [
      "We denote by $\\mathcal B(q)$ the [Bernoulli distribution](http://en.wikipedia.org/wiki/Bernoulli_distribution) with unknown parameter $q$. A Bernoulli variable:\n",
      "\n",
      "* is 0 (tail) with probability $1-q$,\n",
      "* is 1 (head) with probability $q$."
     ]
    },
    {
     "cell_type": "markdown",
     "metadata": {},
     "source": [
      "Here are the steps required to conduct a simple statistical z-test:"
     ]
    },
    {
     "cell_type": "markdown",
     "metadata": {},
     "source": [
      "1. Let's suppose that, after $n=100$ flips, we get $h=61$ heads. We choose a significance level of 0.05: is the coin fair or not? Our null hypothesis is: *the coin is fair* ($q = 1/2$)."
     ]
    },
    {
     "cell_type": "code",
     "collapsed": false,
     "input": [
      "import numpy as np\n",
      "import scipy.stats as st\n",
      "import scipy.special as sp"
     ],
     "language": "python",
     "metadata": {},
     "outputs": [],
     "prompt_number": 1
    },
    {
     "cell_type": "code",
     "collapsed": false,
     "input": [
      "n = 100  # number of coin flips\n",
      "h = 61  # number of heads\n",
      "q = .5  # null-hypothesis of fair coin"
     ],
     "language": "python",
     "metadata": {},
     "outputs": [],
     "prompt_number": 2
    },
    {
     "cell_type": "markdown",
     "metadata": {},
     "source": [
      "2. Let's compute the **z-score**, which is defined by the following formula (`xbar` is the estimated average of the distribution). We will explain this formula in the next section *How it works...*"
     ]
    },
    {
     "cell_type": "code",
     "collapsed": false,
     "input": [
      "xbar = float(h)/n\n",
      "z = (xbar - q) * np.sqrt(n / (q*(1-q))); z"
     ],
     "language": "python",
     "metadata": {},
     "outputs": [
      {
       "metadata": {},
       "output_type": "pyout",
       "prompt_number": 3,
       "text": [
        "2.1999999999999997"
       ]
      }
     ],
     "prompt_number": 3
    },
    {
     "cell_type": "markdown",
     "metadata": {},
     "source": [
      "3. Now, from the z-score, we can compute the $p$-value as follows:"
     ]
    },
    {
     "cell_type": "code",
     "collapsed": false,
     "input": [
      "pval = 2 * (1 - st.norm.cdf(z)); pval"
     ],
     "language": "python",
     "metadata": {},
     "outputs": [
      {
       "metadata": {},
       "output_type": "pyout",
       "prompt_number": 4,
       "text": [
        "0.02780689502699718"
       ]
      }
     ],
     "prompt_number": 4
    },
    {
     "cell_type": "markdown",
     "metadata": {},
     "source": [
      "4. This $p$-value is less than 0.05, so we reject the null hypothesis and conclude that *the coin is probably not fair*."
     ]
    },
    {
     "cell_type": "markdown",
     "metadata": {},
     "source": [
      "### How it works..."
     ]
    },
    {
     "cell_type": "markdown",
     "metadata": {},
     "source": [
      "The coin tossing experiment is modeled as a sequence of $n$ independent random variables $x_i \\in \\{0,1\\}$ following the Bernoulli distribution $\\mathcal B(q)$. Each $x_i$ represents one coin flip. After our experiment, we get actual values (samples) for these variables. A different notation is sometimes used to distinguish between the random variables (probabilistic objects) and the actual values (samples)."
     ]
    },
    {
     "cell_type": "markdown",
     "metadata": {},
     "source": [
      "The following formula gives the **sample mean** (proportion of heads here):\n",
      "\n",
      "$$\\overline x = \\frac{1}{n} \\sum_i x_i$$"
     ]
    },
    {
     "cell_type": "markdown",
     "metadata": {},
     "source": [
      "Knowing the expectancy $\\mu=q$ and variance $\\sigma^2=q(1-q)$ of the distribution $\\mathcal B(q)$, we compute:"
     ]
    },
    {
     "cell_type": "markdown",
     "metadata": {
      "style": "latex"
     },
     "source": [
      "\\begin{align*}\n",
      "E\\left[\\overline x\\right] &= \\mu = q\\\\\n",
      "\\mathrm{var}\\left(\\overline x\\right) &= \\frac{\\sigma^2}{n} = \\frac{q(1-q)}{n}\n",
      "\\end{align*}"
     ]
    },
    {
     "cell_type": "markdown",
     "metadata": {},
     "source": [
      "The $z$-test is the normalized version of $\\overline x$ (we remove its mean, and divide by the standard deviation, so that we get a variable with 0 mean and a standard deviation of 1).\n",
      "\n",
      "$$z = \\frac{\\overline x - E[\\overline x]}{\\mathrm{std}(\\overline x)} = (\\overline x - q) \\sqrt{\\frac{n}{q(1-q)}}$$"
     ]
    },
    {
     "cell_type": "markdown",
     "metadata": {},
     "source": [
      "Under the null-hypothesis, what is the probability of obtaining a $z$-test higher than some quantity $z_0$? This probability is called the (two-sided) **$p$-value**. According to the [central limit theorem](http://en.wikipedia.org/wiki/Central_limit_theorem), the $z$-test approximately follows a standard Gaussian distribution $\\mathcal N(0,1)$ for large $n$, so we get:\n",
      "\n",
      "$$p = P[\\left|z\\right|>z_0] = 2P[z>z_0] \\simeq 2(1-\\Phi(z_0))$$"
     ]
    },
    {
     "cell_type": "markdown",
     "metadata": {},
     "source": [
      "The following diagram illustrates the $z$-score and the $p$-value:"
     ]
    },
    {
     "cell_type": "markdown",
     "metadata": {},
     "source": [
      "![Illustration of the z-score and the p-value.]({filename}/images/gaussian.png)"
     ]
    },
    {
     "cell_type": "markdown",
     "metadata": {},
     "source": [
      "In this formula, $\\Phi$ is the **cumulative distribution function** of a standard normal distribution. In SciPy, we can get it with `scipy.stats.norm.cdf`. So, given the $z$-test computed from the data, we compute the $p$-value: the probability of observing a $z$-test more extreme than the observed test, under the null hypothesis."
     ]
    },
    {
     "cell_type": "markdown",
     "metadata": {},
     "source": [
      "If the $p$-value is less than 5% (the significance level chosen at the beginning of the experiment), we conclude that either:\n",
      "\n",
      "1. The null hypothesis is false: we conclude that the coin is unfair.\n",
      "2. The null hypothesis is true, and it is just bad luck if we obtained these values. We cannot conclude."
     ]
    },
    {
     "cell_type": "markdown",
     "metadata": {
      "style": "paragraph"
     },
     "source": [
      "We cannot disambiguate between these two options in this framework, but typically the first option is chosen. We hit the limits of statistics... although there are ways to mitigate this problem (for example, by conducting several independent studies and looking at all their conclusions)."
     ]
    },
    {
     "cell_type": "markdown",
     "metadata": {},
     "source": [
      "### There's more...\n",
      "\n",
      "Many statistical tests following this pattern and testing various properties of the data exist. Reviewing these tests is beyond the scope of this book, but you can take a look at [this reference](http://en.wikipedia.org/wiki/Statistical_hypothesis_testing).\n",
      "\n",
      "As a $p$-value is not easy to interpret, it can lead to wrong conclusions, even in peer-reviewed scientific publications. See [this reference](http://www.refsmmat.com/statistics/) for an in-depth treatment of the subject."
     ]
    },
    {
     "cell_type": "markdown",
     "metadata": {
      "word_id": "4818_07_bayesian"
     },
     "source": [
      "## Getting started with Bayesian methods\n",
      "\n",
      "In the last recipe, we used a frequentist method to test a hypothesis on incomplete data. Here, we will see an alternative approach based on **Bayesian theory**. The main idea is to consider that *unknown parameters are random variables*, just like the variables describing the experiment. Prior knowledge about the parameters is integrated in the model. This knowledge is updated as more and more data is observed.\n",
      "\n",
      "Frequentists and Bayesians interpret probabilities differently. Frequentists interpret a probability as a limit of frequencies when the number of samples tends to infinity. Bayesians interpret it as a belief, which is updated as more and more data is observed.\n",
      "\n",
      "Here, we revisit the previous coin flipping example with a Bayesian approach. This example is sufficiently simple to admit an analytical treatment. In general, as we will see later in this chapter, analytical results cannot be obtained and numerical methods become essential."
     ]
    },
    {
     "cell_type": "markdown",
     "metadata": {},
     "source": [
      "### How to do it...\n",
      "\n",
      "Let $q$ be the probability of obtaining a head. Whereas $q$ was just a fixed number in the previous recipe, we consider here that it is a *random variable*. Initially, this variable follows a distribution called the **prior distribution**. It represents our knowledge about $q$ *before* we start flipping the coin. We will update this distribution after each trial (**posterior distribution**)."
     ]
    },
    {
     "cell_type": "markdown",
     "metadata": {},
     "source": [
      "1. First, we assume that $q$ is a *uniform* random variable on the interval $[0, 1]$. That's our prior distribution: for all $q$, $P(q)=1$.\n",
      "2. Then, we flip our coin $n$ times. We note $x_i$ the outcome of the $i$-th flip ($0$ for tail, $1$ for head).\n",
      "3. What is the probability distribution of $q$ knowing the observations $x_i$? **Bayes' formula** allows us to compute the *posterior distribution* analytically (see the next section for the mathematical details):\n",
      "\n",
      "$$P(q | \\{x_i\\}) = \\frac{P(\\{x_i\\} | q) P(q)}{\\displaystyle\\int_0^1 P(\\{x_i\\} | q) P(q) dq} = (n+1)\\binom n h  q^h (1-q)^{n-h}$$"
     ]
    },
    {
     "cell_type": "markdown",
     "metadata": {},
     "source": [
      "4. We define in Python the posterior distribution according to the mathematical formula above. We remark this this expression is $(n+1)$ times the *probability mass function* (PMF) of the [binomial distribution](http://en.wikipedia.org/wiki/Binomial_distribution), which is directly available in `scipy.stats`."
     ]
    },
    {
     "cell_type": "code",
     "collapsed": false,
     "input": [
      "import numpy as np\n",
      "import scipy.stats as st\n",
      "import matplotlib.pyplot as plt\n",
      "#%matplotlib inline"
     ],
     "language": "python",
     "metadata": {},
     "outputs": [],
     "prompt_number": 1
    },
    {
     "cell_type": "code",
     "collapsed": false,
     "input": [
      "posterior = lambda n, h, q: (n+1) * st.binom(n, q).pmf(h)"
     ],
     "language": "python",
     "metadata": {},
     "outputs": [],
     "prompt_number": 2
    },
    {
     "cell_type": "markdown",
     "metadata": {},
     "source": [
      "5. Let's plot this distribution for an observation of $h=61$ heads and $n=100$ total flips."
     ]
    },
    {
     "cell_type": "code",
     "collapsed": false,
     "input": [
      "n = 100\n",
      "h = 61\n",
      "q = np.linspace(0., 1., 1000)\n",
      "d = posterior(n, h, q)"
     ],
     "language": "python",
     "metadata": {},
     "outputs": [],
     "prompt_number": 3
    },
    {
     "cell_type": "code",
     "collapsed": false,
     "input": [
      "plt.figure(figsize=(5,3))\n",
      "plt.plot(q, d, '-k')\n",
      "plt.xlabel('q parameter')\n",
      "plt.ylabel('Posterior distribution')\n",
      "plt.ylim(0, d.max()+1)"
     ],
     "language": "python",
     "metadata": {},
     "outputs": [
      {
       "metadata": {},
       "output_type": "display_data",
       "png": "[encoded data removed]",
       "text": [
        "<matplotlib.figure.Figure at 0x7ef9278>"
       ]
      }
     ],
     "prompt_number": 10
    },
    {
     "cell_type": "markdown",
     "metadata": {},
     "source": [
      "This curve represents our belief about the parameter $q$ after we have observed 61 heads."
     ]
    },
    {
     "cell_type": "markdown",
     "metadata": {},
     "source": [
      "### How it works...\n",
      "\n",
      "In this section, we explain Bayes' theorem, and we give the mathematical details underlying\n",
      "this example."
     ]
    },
    {
     "cell_type": "markdown",
     "metadata": {},
     "source": [
      "#### Bayes' theorem\n",
      "\n",
      "There is a very general idea in data science that consists of explaining data with a mathematical model. This is formalized with a one-way process **model \u2192 data**.\n",
      "\n",
      "Once this process is formalized, the task of the data scientist is to exploit the data to recover information about the model. In other words, we want to *invert* the original process and get **data \u2192 model**."
     ]
    },
    {
     "cell_type": "markdown",
     "metadata": {},
     "source": [
      "In a probabilistic setting, the direct process is represented as a **conditional probability distribution** $P(\\textrm{data} \\mid \\textrm{model})$. This is the probability of observing the data when the model is entirely specified.\n",
      "\n",
      "Similarly, the inverse process is $P(\\textrm{model} \\mid \\textrm{data})$. It gives us information about the model (what we're looking for), knowing the observations (what we have)."
     ]
    },
    {
     "cell_type": "markdown",
     "metadata": {},
     "source": [
      "Bayes' theorem is at the core of a general framework for inverting a probabilistic process *model \u2192 data*. It can be stated as follows:\n",
      "\n",
      "$$P\\left(\\textrm{model} \\mid \\textrm{data}\\right) = \\frac{P\\left(\\textrm{data} \\mid \\textrm{model}\\right) \\, P\\left(\\textrm{model}\\right)}{P\\left(\\textrm{data}\\right)}$$"
     ]
    },
    {
     "cell_type": "markdown",
     "metadata": {},
     "source": [
      "This equation gives us information about our model, knowing the observed data. Bayes' equation is widely used in signal processing, statistics, machine learning, inverse problems, and in many other scientific applications."
     ]
    },
    {
     "cell_type": "markdown",
     "metadata": {},
     "source": [
      "In Bayes' equation, $P(\\textrm{model})$ reflects our prior knowledge about the model. Also, $P(\\textrm{data})$ is the distribution of the data. It is generally expressed as an integral of $P(\\textrm{data} \\mid \\textrm{model}) \\, P(\\textrm{model})$."
     ]
    },
    {
     "cell_type": "markdown",
     "metadata": {},
     "source": [
      "In conclusion, Bayes' equation gives us a general roadmap for data inference:\n",
      "\n",
      "1.\tSpecify a mathematical model for the direct process *model \u2192 data* ($P(\\textrm{data} \\mid \\textrm{model})$ term).\n",
      "2.\tSpecify a prior for the model ($P(\\textrm{model})$ term).\n",
      "3.\tPerform analytical or numerical calculations for solving this equation."
     ]
    },
    {
     "cell_type": "markdown",
     "metadata": {},
     "source": [
      "#### Computation of the posterior distribution\n",
      "\n",
      "In this recipe's example, we found the posterior distribution with the following equation\n",
      "(deriving directly from Bayes' theorem):\n",
      "\n",
      "$$P\\left(q \\mid \\{x_i\\}\\right) = \\frac{P\\left(\\{x_i\\} \\mid q\\right) P(q)}{\\displaystyle\\int_0^1 P\\left(\\{x_i\\} \\mid q\\right) \\, P(q) \\, dq}$$"
     ]
    },
    {
     "cell_type": "markdown",
     "metadata": {},
     "source": [
      "Knowing that the $x_i$ are independent, we get ($h$ being the number of heads):\n",
      "\n",
      "$$P\\left(\\{x_i\\} \\mid q \\right) = \\prod_{i=1}^n P\\left(x_i \\mid q\\right) = q^h (1-q)^{n-h}$$"
     ]
    },
    {
     "cell_type": "markdown",
     "metadata": {},
     "source": [
      "In addition, we can compute analytically the following integral (using an integration by parts and an induction):\n",
      "\n",
      "$$\\int_0^1 P\\left(\\{x_i\\} \\mid q \\right) P(q) \\, dq = \\int_0^1 q^h (1-q)^{n-h} dq = \\frac{1}{\\displaystyle(n+1)\\binom n h}$$"
     ]
    },
    {
     "cell_type": "markdown",
     "metadata": {},
     "source": [
      "Finally, we get:\n",
      "\n",
      "$$P\\left(q \\mid \\{x_i\\} \\right) = \\frac{P\\left(\\{x_i\\} \\mid q\\right) P(q)}{\\displaystyle\\int_0^1 P\\left(\\{x_i\\} \\mid q \\right) P(q) \\, dq} = (n+1)\\binom n h  q^h (1-q)^{n-h}$$"
     ]
    },
    {
     "cell_type": "markdown",
     "metadata": {},
     "source": [
      "#### Maximum a posteriori estimation"
     ]
    },
    {
     "cell_type": "markdown",
     "metadata": {},
     "source": [
      "We can get a point estimate from the posterior distribution. For example, the [**maximum a posteriori (MAP) estimation**](http://en.wikipedia.org/wiki/Maximum_a_posteriori_estimation) consists of considering the *maximum* of this distribution as an estimate for $q$. We can find this maximum analytically or numerically."
     ]
    },
    {
     "cell_type": "markdown",
     "metadata": {},
     "source": [
      "Here, we can get this estimate analytically by deriving the posterior distribution with respect to $q$. We get (assuming $1 \\leq h \\leq n-1$):\n",
      "\n",
      "$$\\frac{d P\\left(q \\mid \\{x_i\\}\\right)}{dq} = (n+1)\\frac{n!}{(n-h)! \\, h!} \\left( h q^{h-1} (1-q)^{n-h} - (n-h)q^h (1-q)^{n-h-1} \\right)$$"
     ]
    },
    {
     "cell_type": "markdown",
     "metadata": {},
     "source": [
      "This expression is equal to zero when $q = h/n$. This is the MAP estimate of the parameter $q$.\n",
      "This value happens to be the proportion of heads obtained in the experiment."
     ]
    },
    {
     "cell_type": "markdown",
     "metadata": {},
     "source": [
      "### There's more...\n",
      "\n",
      "In this recipe, we showed a few basic notions in Bayesian theory. We illustrated them with a\n",
      "simple example. The fact that we were able to derive the posterior distribution analytically is not very common in real-world applications. This example is nevertheless informative because it\n",
      "explains the core mathematical ideas behind the complex numerical methods we will see later.\n",
      "\n",
      "#### Credible interval\n",
      "\n",
      "The posterior distribution indicates the plausible values for $q$ given the observations. We could\n",
      "use it to derive a credible interval, likely to contain the actual value. [Credible intervals](http://en.wikipedia.org/wiki/Credible_interval) are\n",
      "the Bayesian analog to confidence intervals in frequentist statistics."
     ]
    },
    {
     "cell_type": "markdown",
     "metadata": {},
     "source": [
      "#### Conjugate distributions\n",
      "\n",
      "In this recipe, the prior and posterior distributions are [conjugate](http://en.wikipedia.org/wiki/Conjugate_prior), meaning that they belong to the same family (the beta distribution). For this reason, we were able to compute the posterior distribution analytically.\n",
      "\n",
      "#### Non-informative priors\n",
      "\n",
      "We chose a uniform distribution as prior distribution for the unknown parameter $q$. It is a simple choice and it leads to tractable computations. It reflects the intuitive fact that we do not favor any particular value a priori. However, there are rigorous ways of choosing completely [non-informative priors](http://en.wikipedia.org/wiki/Prior_probability#Uninformative_priors). An example is the [Jeffreys prior](http://en.wikipedia.org/wiki/Jeffreys_prior), based on the idea that the prior distribution should not depend on the parametrization of the parameters. In our example, the Jeffreys prior is:\n",
      "\n",
      "$$P(q) = \\frac{1}{\\sqrt{q(1-q)}}$$"
     ]
    },
    {
     "cell_type": "markdown",
     "metadata": {},
     "source": [
      "### What's next\n",
      "\n",
      "The rest of the chapter contains the following recipes:\n",
      "\n",
      "* [Exploring a dataset with Pandas and matplotlib](http://nbviewer.ipython.org/github/ipython-books/cookbook-code/blob/master/notebooks/chapter07_stats/01_pandas.ipynb)\n",
      "* [Estimating the correlation between two variables with a contingency table and a chi-square test](http://nbviewer.ipython.org/github/ipython-books/cookbook-code/blob/master/notebooks/chapter07_stats/04_correlation.ipynb)\n",
      "* [Fitting a probability distribution to data with the maximum likelihood method](http://nbviewer.ipython.org/github/ipython-books/cookbook-code/blob/master/notebooks/chapter07_stats/05_mlfit.ipynb)\n",
      "* [Estimating a probability distribution nonparametrically with a Kernel Density Estimation](http://nbviewer.ipython.org/github/ipython-books/cookbook-code/blob/master/notebooks/chapter07_stats/06_kde.ipynb)\n",
      "* [Fitting a Bayesian model by sampling from a posterior distribution with a Markov Chain Monte Carlo method](http://nbviewer.ipython.org/github/ipython-books/cookbook-code/blob/master/notebooks/chapter07_stats/07_pymc.ipynb)\n",
      "* [Analyzing data with R in the IPython notebook](http://nbviewer.ipython.org/github/ipython-books/cookbook-code/blob/master/notebooks/chapter07_stats/08_r.ipynb)"
     ]
    },
    {
     "cell_type": "markdown",
     "metadata": {},
     "source": [
      "> You'll find the rest of the chapter in the full version of the [IPython Cookbook](http://ipython-books.github.io/cookbook/), by [Cyrille Rossant](http://cyrille.rossant.net), Packt Publishing, 2014."
     ]
    }
   ],
   "metadata": {}
  }
 ]
}
